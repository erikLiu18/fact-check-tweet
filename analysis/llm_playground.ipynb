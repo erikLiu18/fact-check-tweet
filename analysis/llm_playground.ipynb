{
 "cells": [
  {
   "cell_type": "code",
   "execution_count": 1,
   "metadata": {},
   "outputs": [
    {
     "ename": "ModuleNotFoundError",
     "evalue": "No module named 'transformers'",
     "output_type": "error",
     "traceback": [
      "\u001b[0;31m---------------------------------------------------------------------------\u001b[0m",
      "\u001b[0;31mModuleNotFoundError\u001b[0m                       Traceback (most recent call last)",
      "Cell \u001b[0;32mIn[1], line 8\u001b[0m\n\u001b[1;32m      5\u001b[0m sys\u001b[38;5;241m.\u001b[39mpath\u001b[38;5;241m.\u001b[39mappend(os\u001b[38;5;241m.\u001b[39mpath\u001b[38;5;241m.\u001b[39mabspath(os\u001b[38;5;241m.\u001b[39mpath\u001b[38;5;241m.\u001b[39mjoin(os\u001b[38;5;241m.\u001b[39mgetcwd(), \u001b[38;5;124m'\u001b[39m\u001b[38;5;124m..\u001b[39m\u001b[38;5;124m'\u001b[39m)))\n\u001b[1;32m      7\u001b[0m \u001b[38;5;66;03m# Import the QwenModel class\u001b[39;00m\n\u001b[0;32m----> 8\u001b[0m \u001b[38;5;28;01mfrom\u001b[39;00m \u001b[38;5;21;01msrc\u001b[39;00m\u001b[38;5;21;01m.\u001b[39;00m\u001b[38;5;21;01mllm\u001b[39;00m \u001b[38;5;28;01mimport\u001b[39;00m QwenModel\n\u001b[1;32m     10\u001b[0m \u001b[38;5;66;03m# Initialize the model once (this is the expensive operation)\u001b[39;00m\n\u001b[1;32m     11\u001b[0m model \u001b[38;5;241m=\u001b[39m QwenModel()\n",
      "File \u001b[0;32m/storage/ice1/7/3/yliu3390/fact-check-tweet/src/llm.py:1\u001b[0m\n\u001b[0;32m----> 1\u001b[0m \u001b[38;5;28;01mfrom\u001b[39;00m \u001b[38;5;21;01mtransformers\u001b[39;00m \u001b[38;5;28;01mimport\u001b[39;00m AutoModelForCausalLM, AutoTokenizer\n\u001b[1;32m      3\u001b[0m \u001b[38;5;28;01mclass\u001b[39;00m \u001b[38;5;21;01mQwenModel\u001b[39;00m:\n\u001b[1;32m      4\u001b[0m     \u001b[38;5;28;01mdef\u001b[39;00m \u001b[38;5;21m__init__\u001b[39m(\u001b[38;5;28mself\u001b[39m, model_name\u001b[38;5;241m=\u001b[39m\u001b[38;5;124m\"\u001b[39m\u001b[38;5;124mQwen/Qwen2.5-7B-Instruct\u001b[39m\u001b[38;5;124m\"\u001b[39m, cache_dir\u001b[38;5;241m=\u001b[39m\u001b[38;5;124m\"\u001b[39m\u001b[38;5;124m/home/hice1/yliu3390/scratch/.cache/huggingface\u001b[39m\u001b[38;5;124m\"\u001b[39m):\n",
      "\u001b[0;31mModuleNotFoundError\u001b[0m: No module named 'transformers'"
     ]
    }
   ],
   "source": [
    "import sys\n",
    "import os\n",
    "from IPython.display import display, Markdown\n",
    "\n",
    "sys.path.append(os.path.abspath(os.path.join(os.getcwd(), '..')))\n",
    "\n",
    "# Import the QwenModel class\n",
    "from src.llm import QwenModel\n",
    "\n",
    "# Initialize the model once (this is the expensive operation)\n",
    "model = QwenModel()\n",
    "print(\"Model initialized and ready to use!\")\n",
    "\n",
    "# Function to generate a single response\n",
    "def generate_single_response(prompt, system_prompt=\"You are a helpful assistant.\", \n",
    "                            max_tokens=512, temperature=0.7):\n",
    "    \"\"\"Generate a single response for a given prompt.\"\"\"\n",
    "    response = model.generate_response(\n",
    "        user_prompt=prompt,\n",
    "        system_prompt=system_prompt,\n",
    "        max_new_tokens=max_tokens,\n",
    "        temperature=temperature\n",
    "    )\n",
    "    return response\n",
    "\n",
    "# Function to generate multiple responses for a single prompt\n",
    "def generate_multiple_responses(prompt, system_prompt=\"You are a helpful assistant.\", \n",
    "                               num_responses=3, max_tokens=512, temperature=0.7):\n",
    "    \"\"\"Generate multiple responses for a given prompt.\"\"\"\n",
    "    responses = model.batch_generate_responses(\n",
    "        user_prompts=[prompt],  # Single prompt in a list\n",
    "        system_prompt=system_prompt,\n",
    "        responses_per_prompt=num_responses,\n",
    "        max_new_tokens=max_tokens,\n",
    "        temperature=temperature,\n",
    "        batch_size=1  # Since we're only processing one prompt\n",
    "    )[0]  # Get the first (and only) list of responses\n",
    "    return responses\n",
    "\n",
    "# Function to display responses nicely in the notebook\n",
    "def display_responses(prompt, responses, system_prompt=\"\"):\n",
    "    \"\"\"Display the prompt and responses in a nicely formatted way.\"\"\"\n",
    "    display(Markdown(f\"### Prompt\\n{prompt}\"))\n",
    "    if system_prompt:\n",
    "        display(Markdown(f\"### System Prompt\\n{system_prompt}\"))\n",
    "    \n",
    "    if isinstance(responses, list):\n",
    "        for i, response in enumerate(responses, 1):\n",
    "            display(Markdown(f\"### Response {i}\\n{response}\"))\n",
    "    else:\n",
    "        display(Markdown(f\"### Response\\n{responses}\"))"
   ]
  },
  {
   "cell_type": "code",
   "execution_count": null,
   "metadata": {},
   "outputs": [],
   "source": [
    "# Example usage (you can run these cells or create your own)\n",
    "# Example 1: Generate a single response\n",
    "prompt1 = \"Explain the concept of transfer learning in AI.\"\n",
    "response1 = generate_single_response(prompt1)\n",
    "display_responses(prompt1, response1)"
   ]
  }
 ],
 "metadata": {
  "kernelspec": {
   "display_name": "Python [conda env:.conda-llm-review]",
   "language": "python",
   "name": "conda-env-.conda-llm-review-py"
  },
  "language_info": {
   "codemirror_mode": {
    "name": "ipython",
    "version": 3
   },
   "file_extension": ".py",
   "mimetype": "text/x-python",
   "name": "python",
   "nbconvert_exporter": "python",
   "pygments_lexer": "ipython3",
   "version": "3.9.21"
  }
 },
 "nbformat": 4,
 "nbformat_minor": 2
}
