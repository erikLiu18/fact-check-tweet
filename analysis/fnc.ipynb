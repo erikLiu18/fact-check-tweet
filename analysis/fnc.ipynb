{
 "cells": [
  {
   "cell_type": "code",
   "execution_count": 2,
   "metadata": {},
   "outputs": [
    {
     "name": "stdout",
     "output_type": "stream",
     "text": [
      "{\"in_reply_to_screen_name\":null,\"created_at\":\"Fri Dec 31 23:59:54 +0000 2021\",\"timestamp_ms\":1641013194,\"in_reply_to_status_id_str\":null,\"full_text\":\"Fuck covid.\",\"retweet_count\":0,\"lang\":\"en\",\"user\":{\"id_str\":\"457213257\",\"lang\":null},\"favorite_count\":0,\"retweeted\":false,\"source\":\"<a href=\\\"http:\\/\\/twitter.com\\/download\\/android\\\" rel=\\\"nofollow\\\">Twitter for Android<\\/a>\",\"place\":null,\"coordinates\":null,\"id\":1477067020558643202,\"favorited\":false,\"id_str\":\"1477067020558643202\",\"geo\":null,\"is_quote_status\":false,\"in_reply_to_user_id_str\":null}\n",
      "{\"in_reply_to_screen_name\":null,\"created_at\":\"Fri Dec 31 23:59:54 +0000 2021\",\"timestamp_ms\":1641013194,\"in_reply_to_status_id_str\":null,\"full_text\":\"RT @AriefWi48645487: @Vaccinologist @kenjeong Sadly, there's no vaccine for stupidity! https:\\/\\/t.co\\/RJmstSfTfm\",\"retweet_count\":7,\"lang\":\"en\",\"user\":{\"id_str\":\"1952056357\",\"lang\":null},\"favorite_count\":0,\"retweeted\":false,\"source\":\"<a href=\\\"http:\\/\\/twitter.com\\/download\\/android\\\" rel=\\\"nofollow\\\">Twitter for Android<\\/a>\",\"place\":null,\"coordinates\":null,\"id\":1477067020571189258,\"favorited\":false,\"id_str\":\"1477067020571189258\",\"geo\":null,\"is_quote_status\":false,\"retweeted_status\":{\"id_str\":\"1477056735793852417\",\"user\":{\"default_profile\":true,\"profile_background_image_url_https\":null,\"profile_banner_url\":\"https:\\/\\/pbs.twimg.com\\/profile_banners\\/1225357901604233218\\/1621807295\",\"utc_offset\":null,\"profile_use_background_image\":true,\"created_at\":\"Thu Feb 06 09:57:51 +0000 2020\",\"protected\":false,\"profile_image_url\":\"http:\\/\\/pbs.twimg.com\\/profile_images\\/1261406906998034433\\/1jSQgQyb_normal.jpg\",\"listed_count\":3,\"description\":\"Clinical Pharmacist, Economist, Proud Indonesian. Pharmacy @univ_indonesia, Economics @undip #ScienceMatters #FactsMatter #VaccinesSaveLives\",\"follow_request_sent\":false,\"lang\":null,\"followers_count\":297,\"entities\":{\"description\":{\"urls\":[]}},\"is_translation_enabled\":false,\"profile_sidebar_fill_color\":\"DDEEF6\",\"name\":\"Arief Wijaya, MSc MPh\",\"profile_background_tile\":false,\"favourites_count\":10792,\"geo_enabled\":false,\"translator_type\":\"none\",\"profile_text_color\":\"333333\",\"withheld_in_countries\":[],\"profile_banner_extensions_alt_text\":null,\"profile_background_image_url\":null,\"url\":null,\"is_translator\":false,\"default_profile_image\":false,\"has_extended_profile\":true,\"verified\":false,\"location\":\"Rotterdam\",\"profile_background_color\":\"F5F8FA\",\"notifications\":false,\"time_zone\":null,\"profile_image_extensions_alt_text\":null,\"friends_count\":376,\"statuses_count\":9333,\"profile_image_url_https\":\"https:\\/\\/pbs.twimg.com\\/profile_images\\/1261406906998034433\\/1jSQgQyb_normal.jpg\",\"profile_sidebar_border_color\":\"C0DEED\",\"profile_link_color\":\"1DA1F2\",\"id\":1225357901604233218,\"contributors_enabled\":false,\"id_str\":\"1225357901604233218\",\"following\":false,\"screen_name\":\"AriefWi48645487\"},\"retweet_count\":7},\"in_reply_to_user_id_str\":null}\n",
      "{\"in_reply_to_screen_name\":null,\"created_at\":\"Fri Dec 31 23:59:54 +0000 2021\",\"timestamp_ms\":1641013194,\"in_reply_to_status_id_str\":null,\"quoted_status\":{\"id_str\":\"1476965292324667395\",\"favorite_count\":2001,\"retweet_count\":789},\"full_text\":\"Save us, Brandon! Please go on Fox News with the request. https:\\/\\/t.co\\/3zZ9H7l0An\",\"retweet_count\":0,\"lang\":\"en\",\"user\":{\"id_str\":\"1328054065926975488\",\"lang\":null},\"favorite_count\":2,\"retweeted\":false,\"source\":\"<a href=\\\"http:\\/\\/twitter.com\\/download\\/iphone\\\" rel=\\\"nofollow\\\">Twitter for iPhone<\\/a>\",\"place\":null,\"coordinates\":null,\"id\":1477067020780937223,\"favorited\":false,\"id_str\":\"1477067020780937223\",\"geo\":null,\"is_quote_status\":true,\"in_reply_to_user_id_str\":null}\n",
      "{\"in_reply_to_screen_name\":\"KhofifahIP\",\"created_at\":\"Fri Dec 31 23:59:54 +0000 2021\",\"timestamp_ms\":1641013194,\"in_reply_to_status_id_str\":\"1432504093486956548\",\"quoted_status\":{\"id_str\":\"1476098049994678273\",\"favorite_count\":795,\"retweet_count\":453},\"full_text\":\"@KhofifahIP halo bu ini gimana kok ada yang mati\\nhttps:\\/\\/t.co\\/uGgunprCu3\",\"retweet_count\":0,\"lang\":\"in\",\"user\":{\"id_str\":\"3272359124\",\"lang\":null},\"favorite_count\":0,\"retweeted\":false,\"source\":\"<a href=\\\"https:\\/\\/mobile.twitter.com\\\" rel=\\\"nofollow\\\">Twitter Web App<\\/a>\",\"place\":null,\"coordinates\":null,\"id\":1477067020784992261,\"favorited\":false,\"id_str\":\"1477067020784992261\",\"geo\":null,\"is_quote_status\":true,\"in_reply_to_user_id_str\":\"253418739\"}\n",
      "{\"in_reply_to_screen_name\":null,\"created_at\":\"Fri Dec 31 23:59:54 +0000 2021\",\"timestamp_ms\":1641013194,\"in_reply_to_status_id_str\":null,\"full_text\":\"RT @julieCODERed: @CandiMathis Kids born during the pandemic are not. Old. Enough. To. Be. In. School. \\n\\nOz is a moron!\",\"retweet_count\":1,\"lang\":\"en\",\"user\":{\"id_str\":\"154774769\",\"lang\":null},\"favorite_count\":0,\"retweeted\":false,\"source\":\"<a href=\\\"http:\\/\\/twitter.com\\/download\\/android\\\" rel=\\\"nofollow\\\">Twitter for Android<\\/a>\",\"place\":null,\"coordinates\":null,\"id\":1477067020789325832,\"favorited\":false,\"id_str\":\"1477067020789325832\",\"geo\":null,\"is_quote_status\":false,\"retweeted_status\":{\"id_str\":\"1477056127170928645\",\"user\":{\"default_profile\":true,\"profile_background_image_url_https\":\"https:\\/\\/abs.twimg.com\\/images\\/themes\\/theme1\\/bg.png\",\"profile_banner_url\":\"https:\\/\\/pbs.twimg.com\\/profile_banners\\/306917274\\/1646071754\",\"utc_offset\":null,\"profile_use_background_image\":true,\"created_at\":\"Sat May 28 17:36:15 +0000 2011\",\"protected\":false,\"profile_image_url\":\"http:\\/\\/pbs.twimg.com\\/profile_images\\/1498359609203044362\\/YGYghZ0K_normal.jpg\",\"listed_count\":1,\"description\":\"Resister. Voracious reader. She\\/her. The right to Choose is Essential. Unicorn Liberal Christian- Flawed\",\"follow_request_sent\":false,\"lang\":null,\"followers_count\":210,\"entities\":{\"description\":{\"urls\":[]}},\"is_translation_enabled\":false,\"profile_sidebar_fill_color\":\"DDEEF6\",\"name\":\"Julie The Resister Sister\",\"profile_background_tile\":false,\"favourites_count\":14540,\"geo_enabled\":false,\"translator_type\":\"none\",\"profile_text_color\":\"333333\",\"withheld_in_countries\":[],\"profile_banner_extensions_alt_text\":null,\"profile_background_image_url\":\"http:\\/\\/abs.twimg.com\\/images\\/themes\\/theme1\\/bg.png\",\"url\":null,\"is_translator\":false,\"default_profile_image\":false,\"has_extended_profile\":false,\"verified\":false,\"location\":\"Nashville, TN\",\"profile_background_color\":\"C0DEED\",\"notifications\":false,\"time_zone\":null,\"profile_image_extensions_alt_text\":null,\"friends_count\":913,\"statuses_count\":4774,\"profile_image_url_https\":\"https:\\/\\/pbs.twimg.com\\/profile_images\\/1498359609203044362\\/YGYghZ0K_normal.jpg\",\"profile_sidebar_border_color\":\"C0DEED\",\"profile_link_color\":\"1DA1F2\",\"id\":306917274,\"contributors_enabled\":false,\"id_str\":\"306917274\",\"following\":false,\"screen_name\":\"julieCODERed\"},\"retweet_count\":1},\"in_reply_to_user_id_str\":null}\n"
     ]
    }
   ],
   "source": [
    "import json\n",
    "\n",
    "# Read the first few lines of the JSON file\n",
    "file_path = '../data/fnc/tweets-2022-01-01.json'\n",
    "\n",
    "with open(file_path, 'r') as file:\n",
    "    # Read the first few lines\n",
    "    for _ in range(5):  # Adjust the number to read more or fewer lines\n",
    "        line = file.readline()\n",
    "        print(line.strip())"
   ]
  },
  {
   "cell_type": "code",
   "execution_count": 16,
   "metadata": {},
   "outputs": [
    {
     "name": "stdout",
     "output_type": "stream",
     "text": [
      "in_reply_to_screen_name\n",
      "created_at\n",
      "timestamp_ms\n",
      "in_reply_to_status_id_str\n",
      "full_text\n",
      "retweet_count\n",
      "lang\n",
      "user\n",
      "favorite_count\n",
      "retweeted\n",
      "source\n",
      "place\n",
      "coordinates\n",
      "id\n",
      "favorited\n",
      "id_str\n",
      "geo\n",
      "is_quote_status\n",
      "in_reply_to_user_id_str\n",
      "retweeted_status\n",
      "quoted_status\n"
     ]
    },
    {
     "data": {
      "text/html": [
       "<div>\n",
       "<style scoped>\n",
       "    .dataframe tbody tr th:only-of-type {\n",
       "        vertical-align: middle;\n",
       "    }\n",
       "\n",
       "    .dataframe tbody tr th {\n",
       "        vertical-align: top;\n",
       "    }\n",
       "\n",
       "    .dataframe thead th {\n",
       "        text-align: right;\n",
       "    }\n",
       "</style>\n",
       "<table border=\"1\" class=\"dataframe\">\n",
       "  <thead>\n",
       "    <tr style=\"text-align: right;\">\n",
       "      <th></th>\n",
       "      <th>full_text</th>\n",
       "      <th>retweet_count</th>\n",
       "      <th>favorite_count</th>\n",
       "    </tr>\n",
       "  </thead>\n",
       "  <tbody>\n",
       "    <tr>\n",
       "      <th>0</th>\n",
       "      <td>Fuck covid.</td>\n",
       "      <td>0</td>\n",
       "      <td>0</td>\n",
       "    </tr>\n",
       "    <tr>\n",
       "      <th>1</th>\n",
       "      <td>RT @AriefWi48645487: @Vaccinologist @kenjeong ...</td>\n",
       "      <td>7</td>\n",
       "      <td>0</td>\n",
       "    </tr>\n",
       "    <tr>\n",
       "      <th>2</th>\n",
       "      <td>Save us, Brandon! Please go on Fox News with t...</td>\n",
       "      <td>0</td>\n",
       "      <td>2</td>\n",
       "    </tr>\n",
       "    <tr>\n",
       "      <th>3</th>\n",
       "      <td>@KhofifahIP halo bu ini gimana kok ada yang ma...</td>\n",
       "      <td>0</td>\n",
       "      <td>0</td>\n",
       "    </tr>\n",
       "    <tr>\n",
       "      <th>4</th>\n",
       "      <td>RT @julieCODERed: @CandiMathis Kids born durin...</td>\n",
       "      <td>1</td>\n",
       "      <td>0</td>\n",
       "    </tr>\n",
       "    <tr>\n",
       "      <th>5</th>\n",
       "      <td>@theSNP No it’s not a happy new year in scotla...</td>\n",
       "      <td>0</td>\n",
       "      <td>0</td>\n",
       "    </tr>\n",
       "    <tr>\n",
       "      <th>6</th>\n",
       "      <td>RT @WeeFlowerLass: My autistic son has anxiety...</td>\n",
       "      <td>4</td>\n",
       "      <td>0</td>\n",
       "    </tr>\n",
       "    <tr>\n",
       "      <th>7</th>\n",
       "      <td>RT @soppystern: I bought a sealed paper bag fr...</td>\n",
       "      <td>1</td>\n",
       "      <td>0</td>\n",
       "    </tr>\n",
       "    <tr>\n",
       "      <th>8</th>\n",
       "      <td>RT @Brian_Murphy_: The CDC now recommends more...</td>\n",
       "      <td>134</td>\n",
       "      <td>0</td>\n",
       "    </tr>\n",
       "    <tr>\n",
       "      <th>9</th>\n",
       "      <td>@belindasmilne @Abesnewat @age_no_barrier @msc...</td>\n",
       "      <td>0</td>\n",
       "      <td>1</td>\n",
       "    </tr>\n",
       "  </tbody>\n",
       "</table>\n",
       "</div>"
      ],
      "text/plain": [
       "                                           full_text  retweet_count  \\\n",
       "0                                        Fuck covid.              0   \n",
       "1  RT @AriefWi48645487: @Vaccinologist @kenjeong ...              7   \n",
       "2  Save us, Brandon! Please go on Fox News with t...              0   \n",
       "3  @KhofifahIP halo bu ini gimana kok ada yang ma...              0   \n",
       "4  RT @julieCODERed: @CandiMathis Kids born durin...              1   \n",
       "5  @theSNP No it’s not a happy new year in scotla...              0   \n",
       "6  RT @WeeFlowerLass: My autistic son has anxiety...              4   \n",
       "7  RT @soppystern: I bought a sealed paper bag fr...              1   \n",
       "8  RT @Brian_Murphy_: The CDC now recommends more...            134   \n",
       "9  @belindasmilne @Abesnewat @age_no_barrier @msc...              0   \n",
       "\n",
       "   favorite_count  \n",
       "0               0  \n",
       "1               0  \n",
       "2               2  \n",
       "3               0  \n",
       "4               0  \n",
       "5               0  \n",
       "6               0  \n",
       "7               0  \n",
       "8               0  \n",
       "9               1  "
      ]
     },
     "execution_count": 16,
     "metadata": {},
     "output_type": "execute_result"
    }
   ],
   "source": [
    "import pandas as pd\n",
    "\n",
    "# Load only a few lines of JSON data into a DataFrame\n",
    "df = pd.read_json('../data/fnc/tweets-2022-01-01.json', lines=True, nrows=10)\n",
    "\n",
    "print('\\n'.join(df.columns.tolist()))\n",
    "\n",
    "# Select only the specified columns and display the DataFrame\n",
    "df_filtered = df[['full_text', 'retweet_count', 'favorite_count']]\n",
    "df_filtered.head(10)  # Display the first few rows of the filtered DataFrame"
   ]
  },
  {
   "cell_type": "code",
   "execution_count": 22,
   "metadata": {},
   "outputs": [
    {
     "name": "stdout",
     "output_type": "stream",
     "text": [
      "{'id_str': '1477056735793852417', 'user': {'default_profile': True, 'profile_background_image_url_https': None, 'profile_banner_url': 'https://pbs.twimg.com/profile_banners/1225357901604233218/1621807295', 'utc_offset': None, 'profile_use_background_image': True, 'created_at': 'Thu Feb 06 09:57:51 +0000 2020', 'protected': False, 'profile_image_url': 'http://pbs.twimg.com/profile_images/1261406906998034433/1jSQgQyb_normal.jpg', 'listed_count': 3, 'description': 'Clinical Pharmacist, Economist, Proud Indonesian. Pharmacy @univ_indonesia, Economics @undip #ScienceMatters #FactsMatter #VaccinesSaveLives', 'follow_request_sent': False, 'lang': None, 'followers_count': 297, 'entities': {'description': {'urls': []}}, 'is_translation_enabled': False, 'profile_sidebar_fill_color': 'DDEEF6', 'name': 'Arief Wijaya, MSc MPh', 'profile_background_tile': False, 'favourites_count': 10792, 'geo_enabled': False, 'translator_type': 'none', 'profile_text_color': '333333', 'withheld_in_countries': [], 'profile_banner_extensions_alt_text': None, 'profile_background_image_url': None, 'url': None, 'is_translator': False, 'default_profile_image': False, 'has_extended_profile': True, 'verified': False, 'location': 'Rotterdam', 'profile_background_color': 'F5F8FA', 'notifications': False, 'time_zone': None, 'profile_image_extensions_alt_text': None, 'friends_count': 376, 'statuses_count': 9333, 'profile_image_url_https': 'https://pbs.twimg.com/profile_images/1261406906998034433/1jSQgQyb_normal.jpg', 'profile_sidebar_border_color': 'C0DEED', 'profile_link_color': '1DA1F2', 'id': 1225357901604233218, 'contributors_enabled': False, 'id_str': '1225357901604233218', 'following': False, 'screen_name': 'AriefWi48645487'}, 'retweet_count': 7}\n"
     ]
    }
   ],
   "source": [
    "df_few = df[['full_text', 'retweeted_status', 'quoted_status']]\n",
    "df_few.head(10)  # Display the first few rows of the filtered DataFrame\n",
    "print(df_few['retweeted_status'][1])"
   ]
  }
 ],
 "metadata": {
  "language_info": {
   "name": "python"
  }
 },
 "nbformat": 4,
 "nbformat_minor": 2
}
